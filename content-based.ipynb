{
 "cells": [
  {
   "cell_type": "code",
   "execution_count": 39,
   "metadata": {},
   "outputs": [],
   "source": [
    "import pandas as pd\n",
    "from sklearn.feature_extraction.text import TfidfVectorizer\n",
    "from sklearn.metrics.pairwise import cosine_similarity\n",
    "import pymongo\n",
    "from dotenv import load_dotenv, dotenv_values\n",
    "\n",
    "load_dotenv()\n",
    "config = dotenv_values(\".env\")"
   ]
  },
  {
   "cell_type": "code",
   "execution_count": 40,
   "metadata": {},
   "outputs": [
    {
     "data": {
      "text/plain": [
       "[{'video_id': '67d2f5960cde55e10a02a3e0',\n",
       "  'text': 'Morning Yoga Routine for Beginners A 15-minute yoga session to kickstart your day with flexibility and calm. yoga morningroutine fitness beginners'},\n",
       " {'video_id': '67d2f5960cde55e10a02a3e1',\n",
       "  'text': 'Vegan Dinner Recipes Under 30 Minutes Quick and delicious plant-based meals for busy weeknights. vegan cooking recipes quickmeals'},\n",
       " {'video_id': '67d2f5960cde55e10a02a3e2',\n",
       "  'text': 'Top 5 Gaming Headsets of 2025 Reviewing the best headsets for immersive gaming this year. gaming tech headsets reviews'},\n",
       " {'video_id': '67d2f5960cde55e10a02a3e3',\n",
       "  'text': 'DIY Home Decor on a Budget Transform your space with these affordable DIY projects. diy homedecor budgetfriendly crafts'},\n",
       " {'video_id': '67d2f5960cde55e10a02a3e4',\n",
       "  'text': 'Street Photography Tips for Beginners Learn how to capture stunning urban shots with your camera. photography streetphotography beginners tips'},\n",
       " {'video_id': '67d2f5960cde55e10a02a3e5',\n",
       "  'text': 'How to Train Your Puppy Basics Essential training tips for new puppy owners. pets puppytraining dogcare tips'},\n",
       " {'video_id': '67d2f5960cde55e10a02a3e6',\n",
       "  'text': 'Minimalist Skincare Routine Simplify your skincare with these 5 must-have products. skincare minimalism beauty routine'},\n",
       " {'video_id': '67d2f5960cde55e10a02a3e7',\n",
       "  'text': 'Epic Mountain Biking Trails Exploring the best trails for adrenaline junkies. mountainbiking adventure outdoors trails'},\n",
       " {'video_id': '67d2f5960cde55e10a02a3e8',\n",
       "  'text': 'Coding a Website from Scratch Step-by-step guide to building a responsive site with HTML and CSS. coding webdevelopment tutorial tech'},\n",
       " {'video_id': '67d2f5960cde55e10a02a3e9',\n",
       "  'text': 'Best Coffee Shops in NYC A tour of hidden gems for coffee lovers in New York. coffee nyc travel foodie'},\n",
       " {'video_id': '67d2f5960cde55e10a02a3ea',\n",
       "  'text': 'Advanced Yoga Poses Tutorial Master challenging poses with this expert guide. yoga fitness advanced tutorial'},\n",
       " {'video_id': '67d2f5960cde55e10a02a3eb',\n",
       "  'text': 'Healthy Smoothie Recipes Blend up these nutrient-packed drinks in minutes. smoothies healthy recipes food'},\n",
       " {'video_id': '67d2f5960cde55e10a02a3ec',\n",
       "  'text': 'Unboxing the Latest Smartphone First look at the newest tech gadget of 2025. tech unboxing smartphone reviews'},\n",
       " {'video_id': '67d2f5960cde55e10a02a3ed',\n",
       "  'text': 'Gardening Tips for Small Spaces Grow your own food even in tiny apartments. gardening smallspaces urbanliving tips'},\n",
       " {'video_id': '67d2f5960cde55e10a02a3ee',\n",
       "  'text': 'Beginner Guitar Lessons Learn your first chords with this easy tutorial. guitar music beginners lessons'},\n",
       " {'video_id': '67d2f5960cde55e10a02a3ef',\n",
       "  'text': 'Backpacking Europe on a Budget Tips and tricks for affordable travel across Europe. travel backpacking budget europe'},\n",
       " {'video_id': '67d2f5960cde55e10a02a3f0',\n",
       "  'text': 'Keto Dessert Recipes Satisfy your sweet tooth without breaking your diet. keto desserts recipes lowcarb'},\n",
       " {'video_id': '67d2f5960cde55e10a02a3f1',\n",
       "  'text': 'Sunset Hike Vlog Join me on a scenic hike with breathtaking views. hiking outdoors vlog nature'},\n",
       " {'video_id': '67d2f5960cde55e10a02a3f2',\n",
       "  'text': 'AI Tools for Productivity Boost your workflow with these cutting-edge AI apps. ai productivity tech tools'},\n",
       " {'video_id': '67d2f5960cde55e10a02a3f3',\n",
       "  'text': 'Cat Care 101 Everything you need to know to keep your feline friend happy. cats petcare tips animals'}]"
      ]
     },
     "execution_count": 40,
     "metadata": {},
     "output_type": "execute_result"
    }
   ],
   "source": [
    "client = pymongo.MongoClient(config.get(\"MONGO_URI\"))\n",
    "db = client[\"tastetube\"]\n",
    "\n",
    "videos = db.videos.find()\n",
    "\n",
    "video_data = [\n",
    "    {\n",
    "        \"video_id\": str(vid[\"_id\"]),\n",
    "        \"text\": f\"{vid['title']} {vid['description']} {' '.join(vid['hashtags'])}\",\n",
    "    }\n",
    "    for vid in videos\n",
    "]\n",
    "\n",
    "video_data"
   ]
  },
  {
   "cell_type": "code",
   "execution_count": 5,
   "metadata": {},
   "outputs": [
    {
     "data": {
      "text/plain": [
       "array([[1.        , 0.        , 0.        , 0.        , 0.14019904,\n",
       "        0.        , 0.08355188, 0.        , 0.        , 0.        ,\n",
       "        0.28374971, 0.        , 0.        , 0.        , 0.07508241,\n",
       "        0.        , 0.        , 0.        , 0.        , 0.        ],\n",
       "       [0.        , 1.        , 0.        , 0.        , 0.        ,\n",
       "        0.        , 0.        , 0.        , 0.        , 0.        ,\n",
       "        0.        , 0.20510154, 0.        , 0.        , 0.        ,\n",
       "        0.        , 0.1544437 , 0.        , 0.        , 0.        ],\n",
       "       [0.        , 0.        , 1.        , 0.        , 0.        ,\n",
       "        0.        , 0.        , 0.03012396, 0.02560937, 0.02744199,\n",
       "        0.        , 0.        , 0.13502797, 0.        , 0.        ,\n",
       "        0.        , 0.        , 0.        , 0.02284679, 0.        ],\n",
       "       [0.        , 0.        , 0.        , 1.        , 0.        ,\n",
       "        0.        , 0.        , 0.        , 0.        , 0.        ,\n",
       "        0.        , 0.        , 0.        , 0.        , 0.        ,\n",
       "        0.11634039, 0.        , 0.        , 0.        , 0.        ],\n",
       "       [0.14019904, 0.        , 0.        , 0.        , 1.        ,\n",
       "        0.11797757, 0.        , 0.        , 0.        , 0.        ,\n",
       "        0.        , 0.        , 0.        , 0.12224421, 0.13514   ,\n",
       "        0.04868357, 0.        , 0.        , 0.        , 0.06655965],\n",
       "       [0.        , 0.        , 0.        , 0.        , 0.11797757,\n",
       "        1.        , 0.        , 0.        , 0.        , 0.04297215,\n",
       "        0.        , 0.        , 0.        , 0.12844445, 0.        ,\n",
       "        0.0511528 , 0.        , 0.        , 0.        , 0.06993556],\n",
       "       [0.08355188, 0.        , 0.        , 0.        , 0.        ,\n",
       "        0.        , 1.        , 0.        , 0.        , 0.        ,\n",
       "        0.        , 0.        , 0.        , 0.        , 0.        ,\n",
       "        0.        , 0.        , 0.        , 0.        , 0.        ],\n",
       "       [0.        , 0.        , 0.03012396, 0.        , 0.        ,\n",
       "        0.        , 0.        , 1.        , 0.        , 0.03114453,\n",
       "        0.        , 0.        , 0.        , 0.        , 0.        ,\n",
       "        0.        , 0.        , 0.04535344, 0.        , 0.        ],\n",
       "       [0.        , 0.        , 0.02560937, 0.        , 0.        ,\n",
       "        0.        , 0.        , 0.        , 1.        , 0.        ,\n",
       "        0.11257396, 0.        , 0.06301873, 0.        , 0.03966508,\n",
       "        0.        , 0.        , 0.        , 0.02626844, 0.        ],\n",
       "       [0.        , 0.        , 0.02744199, 0.        , 0.        ,\n",
       "        0.04297215, 0.        , 0.03114453, 0.        , 1.        ,\n",
       "        0.        , 0.        , 0.        , 0.        , 0.        ,\n",
       "        0.07093002, 0.        , 0.        , 0.        , 0.        ],\n",
       "       [0.28374971, 0.        , 0.        , 0.        , 0.        ,\n",
       "        0.        , 0.        , 0.        , 0.11257396, 0.        ,\n",
       "        1.        , 0.        , 0.        , 0.        , 0.07884186,\n",
       "        0.        , 0.        , 0.        , 0.        , 0.        ],\n",
       "       [0.        , 0.20510154, 0.        , 0.        , 0.        ,\n",
       "        0.        , 0.        , 0.        , 0.        , 0.        ,\n",
       "        0.        , 1.        , 0.        , 0.05591411, 0.        ,\n",
       "        0.        , 0.17613519, 0.        , 0.        , 0.        ],\n",
       "       [0.        , 0.        , 0.13502797, 0.        , 0.        ,\n",
       "        0.        , 0.        , 0.        , 0.06301873, 0.        ,\n",
       "        0.        , 0.        , 1.        , 0.        , 0.        ,\n",
       "        0.        , 0.        , 0.        , 0.05622064, 0.        ],\n",
       "       [0.        , 0.        , 0.        , 0.        , 0.12224421,\n",
       "        0.12844445, 0.        , 0.        , 0.        , 0.        ,\n",
       "        0.        , 0.05591411, 0.        , 1.        , 0.        ,\n",
       "        0.05300273, 0.        , 0.        , 0.        , 0.07246477],\n",
       "       [0.07508241, 0.        , 0.        , 0.        , 0.13514   ,\n",
       "        0.        , 0.        , 0.        , 0.03966508, 0.        ,\n",
       "        0.07884186, 0.        , 0.        , 0.        , 1.        ,\n",
       "        0.        , 0.        , 0.        , 0.        , 0.        ],\n",
       "       [0.        , 0.        , 0.        , 0.11634039, 0.04868357,\n",
       "        0.0511528 , 0.        , 0.        , 0.        , 0.07093002,\n",
       "        0.        , 0.        , 0.        , 0.05300273, 0.        ,\n",
       "        1.        , 0.        , 0.        , 0.        , 0.02885898],\n",
       "       [0.        , 0.1544437 , 0.        , 0.        , 0.        ,\n",
       "        0.        , 0.        , 0.        , 0.        , 0.        ,\n",
       "        0.        , 0.17613519, 0.        , 0.        , 0.        ,\n",
       "        0.        , 1.        , 0.        , 0.        , 0.        ],\n",
       "       [0.        , 0.        , 0.        , 0.        , 0.        ,\n",
       "        0.        , 0.        , 0.04535344, 0.        , 0.        ,\n",
       "        0.        , 0.        , 0.        , 0.        , 0.        ,\n",
       "        0.        , 0.        , 1.        , 0.        , 0.        ],\n",
       "       [0.        , 0.        , 0.02284679, 0.        , 0.        ,\n",
       "        0.        , 0.        , 0.        , 0.02626844, 0.        ,\n",
       "        0.        , 0.        , 0.05622064, 0.        , 0.        ,\n",
       "        0.        , 0.        , 0.        , 1.        , 0.        ],\n",
       "       [0.        , 0.        , 0.        , 0.        , 0.06655965,\n",
       "        0.06993556, 0.        , 0.        , 0.        , 0.        ,\n",
       "        0.        , 0.        , 0.        , 0.07246477, 0.        ,\n",
       "        0.02885898, 0.        , 0.        , 0.        , 1.        ]])"
      ]
     },
     "execution_count": 5,
     "metadata": {},
     "output_type": "execute_result"
    }
   ],
   "source": [
    "# TF-IDF Vectorization\n",
    "tfidf = TfidfVectorizer(stop_words=\"english\")\n",
    "tfidf_matrix = tfidf.fit_transform([v[\"text\"] for v in video_data])\n",
    "\n",
    "cosine_sim = cosine_similarity(tfidf_matrix, tfidf_matrix)\n",
    "\n",
    "cosine_sim"
   ]
  },
  {
   "cell_type": "code",
   "execution_count": null,
   "metadata": {},
   "outputs": [],
   "source": [
    "def recommend_videos(video_id, num_recommendations=5):\n",
    "    idx = next(\n",
    "        (i for i, video in enumerate(video_data) if video[\"video_id\"] == video_id), None\n",
    "    )\n",
    "    if idx is None:\n",
    "        return []\n",
    "    sim_scores = list(enumerate(cosine_sim[idx]))\n",
    "    sim_scores = sorted(sim_scores, key=lambda x: x[1], reverse=True)\n",
    "    sim_scores = sim_scores[1 : num_recommendations + 1]  # Exclude self\n",
    "    video_indices = [i[0] for i in sim_scores]\n",
    "    return [video_data[i] for i in video_indices]"
   ]
  },
  {
   "cell_type": "code",
   "execution_count": 36,
   "metadata": {},
   "outputs": [
    {
     "name": "stdout",
     "output_type": "stream",
     "text": [
      "{'video_id': '67d2f5960cde55e10a02a3e0', 'text': 'Morning Yoga Routine for Beginners A 15-minute yoga session to kickstart your day with flexibility and calm. yoga morningroutine fitness beginners'}\n"
     ]
    },
    {
     "data": {
      "text/plain": [
       "[{'video_id': '67d2f5960cde55e10a02a3ea',\n",
       "  'text': 'Advanced Yoga Poses Tutorial Master challenging poses with this expert guide. yoga fitness advanced tutorial'},\n",
       " {'video_id': '67d2f5960cde55e10a02a3e4',\n",
       "  'text': 'Street Photography Tips for Beginners Learn how to capture stunning urban shots with your camera. photography streetphotography beginners tips'},\n",
       " {'video_id': '67d2f5960cde55e10a02a3e6',\n",
       "  'text': 'Minimalist Skincare Routine Simplify your skincare with these 5 must-have products. skincare minimalism beauty routine'},\n",
       " {'video_id': '67d2f5960cde55e10a02a3ee',\n",
       "  'text': 'Beginner Guitar Lessons Learn your first chords with this easy tutorial. guitar music beginners lessons'},\n",
       " {'video_id': '67d2f5960cde55e10a02a3e1',\n",
       "  'text': 'Vegan Dinner Recipes Under 30 Minutes Quick and delicious plant-based meals for busy weeknights. vegan cooking recipes quickmeals'}]"
      ]
     },
     "execution_count": 36,
     "metadata": {},
     "output_type": "execute_result"
    }
   ],
   "source": [
    "video_id = \"67d2f5960cde55e10a02a3e0\"\n",
    "idx = next(\n",
    "    (i for i, video in enumerate(video_data) if video[\"video_id\"] == video_id), None\n",
    ")\n",
    "print(video_data[idx])\n",
    "recommend_videos(video_id)"
   ]
  }
 ],
 "metadata": {
  "kernelspec": {
   "display_name": "Python 3",
   "language": "python",
   "name": "python3"
  },
  "language_info": {
   "codemirror_mode": {
    "name": "ipython",
    "version": 3
   },
   "file_extension": ".py",
   "mimetype": "text/x-python",
   "name": "python",
   "nbconvert_exporter": "python",
   "pygments_lexer": "ipython3",
   "version": "3.11.9"
  }
 },
 "nbformat": 4,
 "nbformat_minor": 2
}
